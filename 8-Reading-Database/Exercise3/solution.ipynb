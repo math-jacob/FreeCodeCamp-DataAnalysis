{
 "cells": [
  {
   "cell_type": "markdown",
   "metadata": {},
   "source": [
    "# Problema"
   ]
  },
  {
   "cell_type": "markdown",
   "metadata": {},
   "source": [
    "## Crypto currency database\n",
    "\n",
    "The database we will use contains two tables `cryptocoins_cryptocurrency` and `cryptocoins_exchange`.\n",
    "\n",
    "Using the given sqlite3 connection and the `read_sql` method write a single query that:\n",
    "  - Join both tables and return the list of cryptocurrencies with its exchanges. You should use the column with the exchange ID on each table to perform the join.\n",
    "  - As both tables have a `name` column you should rename `cryptocoins_cryptocurrency.name` as `coin_name` and `cryptocoins_exchange.name` as `exchange`. Also select `symbol`, `price_usd` and `percent_change_7d` columns.\n",
    "  - Store the information in a `crypto_df` DataFrame.\n",
    "\n",
    "- Once you have the `crypto_df` DataFrame, create a new `weekly_change_df` with the `crypto_df` data sorted by `percent_change_7d` from highest to lowest.\n"
   ]
  },
  {
   "cell_type": "markdown",
   "metadata": {},
   "source": [
    "# Solução"
   ]
  },
  {
   "cell_type": "code",
   "execution_count": 1,
   "metadata": {},
   "outputs": [],
   "source": [
    "import numpy as np\n",
    "import pandas as pd\n",
    "import sqlite3\n",
    "\n",
    "import os"
   ]
  },
  {
   "cell_type": "code",
   "execution_count": 2,
   "metadata": {},
   "outputs": [
    {
     "data": {
      "text/plain": [
       "<sqlite3.Cursor at 0x2c3ddae31c0>"
      ]
     },
     "execution_count": 2,
     "metadata": {},
     "output_type": "execute_result"
    }
   ],
   "source": [
    "# create a new connection to a db in memory\n",
    "if os.path.exists('files/cryptos.db'):\n",
    "    os.remove('files/cryptos.db')\n",
    "\n",
    "conn = sqlite3.connect('files/cryptos.db')\n",
    "\n",
    "# create a cursor\n",
    "c = conn.cursor()\n",
    "\n",
    "# restore the given crpyots.sql dump\n",
    "c.executescript(open('files/cryptos.sql', 'r').read())"
   ]
  },
  {
   "cell_type": "markdown",
   "metadata": {},
   "source": [
    "Join both tables and return the list of cryptocurrencies with its exchanges. You should use the column with the exchange ID on each table to perform the join.\n",
    "\n",
    "As both tables have a `name` column you should rename `cryptocoins_cryptocurrency.name` as `coin_name` and `cryptocoins_exchange.name` as `exchange`. Also select `symbol`, `price_usd` and `percent_change_7d` columns."
   ]
  },
  {
   "cell_type": "code",
   "execution_count": 3,
   "metadata": {},
   "outputs": [],
   "source": [
    "crypto_df = pd.read_sql_query('''SELECT cryptocoins_cryptocurrency.name as coin_name, cryptocoins_exchange.name as exchange, symbol, price_usd, percent_change_7d \n",
    "                              FROM cryptocoins_cryptocurrency \n",
    "                              INNER JOIN cryptocoins_exchange \n",
    "                              ON cryptocoins_cryptocurrency.exchange_id = cryptocoins_exchange.id''',\n",
    "                              conn)"
   ]
  },
  {
   "cell_type": "code",
   "execution_count": 4,
   "metadata": {},
   "outputs": [
    {
     "data": {
      "text/html": [
       "<div>\n",
       "<style scoped>\n",
       "    .dataframe tbody tr th:only-of-type {\n",
       "        vertical-align: middle;\n",
       "    }\n",
       "\n",
       "    .dataframe tbody tr th {\n",
       "        vertical-align: top;\n",
       "    }\n",
       "\n",
       "    .dataframe thead th {\n",
       "        text-align: right;\n",
       "    }\n",
       "</style>\n",
       "<table border=\"1\" class=\"dataframe\">\n",
       "  <thead>\n",
       "    <tr style=\"text-align: right;\">\n",
       "      <th></th>\n",
       "      <th>coin_name</th>\n",
       "      <th>exchange</th>\n",
       "      <th>symbol</th>\n",
       "      <th>price_usd</th>\n",
       "      <th>percent_change_7d</th>\n",
       "    </tr>\n",
       "  </thead>\n",
       "  <tbody>\n",
       "    <tr>\n",
       "      <th>0</th>\n",
       "      <td>Bitcoin</td>\n",
       "      <td>Bitstamp</td>\n",
       "      <td>BTC</td>\n",
       "      <td>8707.37</td>\n",
       "      <td>-5.91</td>\n",
       "    </tr>\n",
       "    <tr>\n",
       "      <th>1</th>\n",
       "      <td>Ethereum</td>\n",
       "      <td>Bitstamp</td>\n",
       "      <td>ETH</td>\n",
       "      <td>186.50</td>\n",
       "      <td>-0.66</td>\n",
       "    </tr>\n",
       "    <tr>\n",
       "      <th>2</th>\n",
       "      <td>XRP</td>\n",
       "      <td>Bitstamp</td>\n",
       "      <td>XRP</td>\n",
       "      <td>0.27</td>\n",
       "      <td>-8.22</td>\n",
       "    </tr>\n",
       "    <tr>\n",
       "      <th>3</th>\n",
       "      <td>Bitcoin Cash</td>\n",
       "      <td>Binance</td>\n",
       "      <td>BCH</td>\n",
       "      <td>278.92</td>\n",
       "      <td>-4.76</td>\n",
       "    </tr>\n",
       "    <tr>\n",
       "      <th>4</th>\n",
       "      <td>Tether</td>\n",
       "      <td>Bitstamp</td>\n",
       "      <td>USDT</td>\n",
       "      <td>1.01</td>\n",
       "      <td>0.45</td>\n",
       "    </tr>\n",
       "  </tbody>\n",
       "</table>\n",
       "</div>"
      ],
      "text/plain": [
       "      coin_name  exchange symbol  price_usd  percent_change_7d\n",
       "0       Bitcoin  Bitstamp    BTC    8707.37              -5.91\n",
       "1      Ethereum  Bitstamp    ETH     186.50              -0.66\n",
       "2           XRP  Bitstamp    XRP       0.27              -8.22\n",
       "3  Bitcoin Cash   Binance    BCH     278.92              -4.76\n",
       "4        Tether  Bitstamp   USDT       1.01               0.45"
      ]
     },
     "execution_count": 4,
     "metadata": {},
     "output_type": "execute_result"
    }
   ],
   "source": [
    "crypto_df.head()"
   ]
  },
  {
   "cell_type": "code",
   "execution_count": 5,
   "metadata": {},
   "outputs": [
    {
     "data": {
      "text/plain": [
       "(100, 5)"
      ]
     },
     "execution_count": 5,
     "metadata": {},
     "output_type": "execute_result"
    }
   ],
   "source": [
    "crypto_df.shape"
   ]
  },
  {
   "cell_type": "markdown",
   "metadata": {},
   "source": [
    "Once you have the `crypto_df` DataFrame, create a new `weekly_change_df` with the `crypto_df` data sorted by `percent_change_7d` from highest to lowest."
   ]
  },
  {
   "cell_type": "code",
   "execution_count": 6,
   "metadata": {},
   "outputs": [
    {
     "data": {
      "text/html": [
       "<div>\n",
       "<style scoped>\n",
       "    .dataframe tbody tr th:only-of-type {\n",
       "        vertical-align: middle;\n",
       "    }\n",
       "\n",
       "    .dataframe tbody tr th {\n",
       "        vertical-align: top;\n",
       "    }\n",
       "\n",
       "    .dataframe thead th {\n",
       "        text-align: right;\n",
       "    }\n",
       "</style>\n",
       "<table border=\"1\" class=\"dataframe\">\n",
       "  <thead>\n",
       "    <tr style=\"text-align: right;\">\n",
       "      <th></th>\n",
       "      <th>coin_name</th>\n",
       "      <th>exchange</th>\n",
       "      <th>symbol</th>\n",
       "      <th>price_usd</th>\n",
       "      <th>percent_change_7d</th>\n",
       "    </tr>\n",
       "  </thead>\n",
       "  <tbody>\n",
       "    <tr>\n",
       "      <th>65</th>\n",
       "      <td>DxChain Token</td>\n",
       "      <td>OKEx</td>\n",
       "      <td>DX</td>\n",
       "      <td>0.00</td>\n",
       "      <td>89.14</td>\n",
       "    </tr>\n",
       "    <tr>\n",
       "      <th>39</th>\n",
       "      <td>MINDOL</td>\n",
       "      <td>Bitstamp</td>\n",
       "      <td>MIN</td>\n",
       "      <td>1.36</td>\n",
       "      <td>72.90</td>\n",
       "    </tr>\n",
       "    <tr>\n",
       "      <th>74</th>\n",
       "      <td>Seele</td>\n",
       "      <td>Bitstamp</td>\n",
       "      <td>SEELE</td>\n",
       "      <td>0.11</td>\n",
       "      <td>39.59</td>\n",
       "    </tr>\n",
       "    <tr>\n",
       "      <th>61</th>\n",
       "      <td>Komodo</td>\n",
       "      <td>Poloniex</td>\n",
       "      <td>KMD</td>\n",
       "      <td>0.86</td>\n",
       "      <td>22.75</td>\n",
       "    </tr>\n",
       "    <tr>\n",
       "      <th>26</th>\n",
       "      <td>VeChain</td>\n",
       "      <td>OKEx</td>\n",
       "      <td>VET</td>\n",
       "      <td>0.01</td>\n",
       "      <td>21.49</td>\n",
       "    </tr>\n",
       "    <tr>\n",
       "      <th>...</th>\n",
       "      <td>...</td>\n",
       "      <td>...</td>\n",
       "      <td>...</td>\n",
       "      <td>...</td>\n",
       "      <td>...</td>\n",
       "    </tr>\n",
       "    <tr>\n",
       "      <th>35</th>\n",
       "      <td>Insight Chain</td>\n",
       "      <td>Bitstamp</td>\n",
       "      <td>INB</td>\n",
       "      <td>0.64</td>\n",
       "      <td>-13.37</td>\n",
       "    </tr>\n",
       "    <tr>\n",
       "      <th>57</th>\n",
       "      <td>Bytom</td>\n",
       "      <td>OKEx</td>\n",
       "      <td>BTM</td>\n",
       "      <td>0.11</td>\n",
       "      <td>-13.42</td>\n",
       "    </tr>\n",
       "    <tr>\n",
       "      <th>64</th>\n",
       "      <td>Silverway</td>\n",
       "      <td>Poloniex</td>\n",
       "      <td>SLV</td>\n",
       "      <td>0.95</td>\n",
       "      <td>-13.84</td>\n",
       "    </tr>\n",
       "    <tr>\n",
       "      <th>63</th>\n",
       "      <td>EDUCare</td>\n",
       "      <td>OKEx</td>\n",
       "      <td>EKT</td>\n",
       "      <td>0.10</td>\n",
       "      <td>-14.31</td>\n",
       "    </tr>\n",
       "    <tr>\n",
       "      <th>59</th>\n",
       "      <td>LUNA</td>\n",
       "      <td>Poloniex</td>\n",
       "      <td>LUNA</td>\n",
       "      <td>0.37</td>\n",
       "      <td>-17.84</td>\n",
       "    </tr>\n",
       "  </tbody>\n",
       "</table>\n",
       "<p>100 rows × 5 columns</p>\n",
       "</div>"
      ],
      "text/plain": [
       "        coin_name  exchange symbol  price_usd  percent_change_7d\n",
       "65  DxChain Token      OKEx     DX       0.00              89.14\n",
       "39         MINDOL  Bitstamp    MIN       1.36              72.90\n",
       "74          Seele  Bitstamp  SEELE       0.11              39.59\n",
       "61         Komodo  Poloniex    KMD       0.86              22.75\n",
       "26        VeChain      OKEx    VET       0.01              21.49\n",
       "..            ...       ...    ...        ...                ...\n",
       "35  Insight Chain  Bitstamp    INB       0.64             -13.37\n",
       "57          Bytom      OKEx    BTM       0.11             -13.42\n",
       "64      Silverway  Poloniex    SLV       0.95             -13.84\n",
       "63        EDUCare      OKEx    EKT       0.10             -14.31\n",
       "59           LUNA  Poloniex   LUNA       0.37             -17.84\n",
       "\n",
       "[100 rows x 5 columns]"
      ]
     },
     "execution_count": 6,
     "metadata": {},
     "output_type": "execute_result"
    }
   ],
   "source": [
    "weekly_change_df = crypto_df.sort_values('percent_change_7d', ascending=False)\n",
    "weekly_change_df"
   ]
  },
  {
   "cell_type": "markdown",
   "metadata": {},
   "source": [
    "# Testes"
   ]
  },
  {
   "cell_type": "code",
   "execution_count": 7,
   "metadata": {},
   "outputs": [],
   "source": [
    "def test_cryptos_1():\n",
    "    return crypto_df.shape == (100, 5)\n",
    "\n",
    "def test_cryptos_2():\n",
    "    return crypto_df.loc[12, 'symbol'] == 'LINK'\n",
    "\n",
    "def test_weekly_change_1():\n",
    "    return weekly_change_df.iloc[0]['coin_name'] == 'DxChain Token'\n",
    "\n",
    "def test_weekly_change_2():\n",
    "    return weekly_change_df.iloc[4]['price_usd'] == 0.01"
   ]
  },
  {
   "cell_type": "code",
   "execution_count": 8,
   "metadata": {},
   "outputs": [
    {
     "data": {
      "text/plain": [
       "True"
      ]
     },
     "execution_count": 8,
     "metadata": {},
     "output_type": "execute_result"
    }
   ],
   "source": [
    "test_cryptos_1()"
   ]
  },
  {
   "cell_type": "code",
   "execution_count": 9,
   "metadata": {},
   "outputs": [
    {
     "data": {
      "text/plain": [
       "True"
      ]
     },
     "execution_count": 9,
     "metadata": {},
     "output_type": "execute_result"
    }
   ],
   "source": [
    "test_cryptos_2()"
   ]
  },
  {
   "cell_type": "code",
   "execution_count": 10,
   "metadata": {},
   "outputs": [
    {
     "data": {
      "text/plain": [
       "True"
      ]
     },
     "execution_count": 10,
     "metadata": {},
     "output_type": "execute_result"
    }
   ],
   "source": [
    "test_weekly_change_1()"
   ]
  },
  {
   "cell_type": "code",
   "execution_count": 11,
   "metadata": {},
   "outputs": [
    {
     "data": {
      "text/plain": [
       "True"
      ]
     },
     "execution_count": 11,
     "metadata": {},
     "output_type": "execute_result"
    }
   ],
   "source": [
    "test_weekly_change_2()"
   ]
  }
 ],
 "metadata": {
  "kernelspec": {
   "display_name": "Python 3",
   "language": "python",
   "name": "python3"
  },
  "language_info": {
   "codemirror_mode": {
    "name": "ipython",
    "version": 3
   },
   "file_extension": ".py",
   "mimetype": "text/x-python",
   "name": "python",
   "nbconvert_exporter": "python",
   "pygments_lexer": "ipython3",
   "version": "3.11.4"
  }
 },
 "nbformat": 4,
 "nbformat_minor": 2
}
