{
 "cells": [
  {
   "cell_type": "code",
   "execution_count": 74,
   "metadata": {},
   "outputs": [],
   "source": [
    "import numpy as np"
   ]
  },
  {
   "cell_type": "code",
   "execution_count": 75,
   "metadata": {},
   "outputs": [],
   "source": [
    "def calculate(input: list):\n",
    "    if (len(input) < 9):\n",
    "        raise ValueError('List must contain nine numbers.')\n",
    "    \n",
    "    a = np.array(input).reshape(3, 3)\n",
    "    \n",
    "    # axis == 0 == columns\n",
    "    # axis == 1 == rows\n",
    "    mean = [a.mean(axis=0).tolist(), a.mean(axis=1).tolist(), a.mean().tolist()]\n",
    "    variance = [a.var(axis=0).tolist(), a.var(axis=1).tolist(), a.var().tolist()]\n",
    "    std = [a.std(axis=0).tolist(), a.std(axis=1).tolist(), a.std().tolist()]\n",
    "    maximum = [a.max(axis=0).tolist(), a.max(axis=1).tolist(), a.max().tolist()]\n",
    "    minimum = [a.min(axis=0).tolist(), a.min(axis=1).tolist(), a.min().tolist()]\n",
    "    soma = [a.sum(axis=0).tolist(), a.sum(axis=1).tolist(), a.sum().tolist()]\n",
    "\n",
    "    return {\n",
    "        'mean': mean,\n",
    "        'variance': variance,\n",
    "        'standard deviation': std,\n",
    "        'max': maximum,\n",
    "        'min': minimum,\n",
    "        'sum': soma\n",
    "    }"
   ]
  },
  {
   "cell_type": "code",
   "execution_count": 76,
   "metadata": {},
   "outputs": [
    {
     "name": "stdout",
     "output_type": "stream",
     "text": [
      "mean: [[3.0, 4.0, 5.0], [1.0, 4.0, 7.0], 4.0]\n",
      "variance: [[6.0, 6.0, 6.0], [0.6666666666666666, 0.6666666666666666, 0.6666666666666666], 6.666666666666667]\n",
      "standard deviation: [[2.449489742783178, 2.449489742783178, 2.449489742783178], [0.816496580927726, 0.816496580927726, 0.816496580927726], 2.581988897471611]\n",
      "max: [[6, 7, 8], [2, 5, 8], 8]\n",
      "min: [[0, 1, 2], [0, 3, 6], 0]\n",
      "sum: [[9, 12, 15], [3, 12, 21], 36]\n"
     ]
    }
   ],
   "source": [
    "calculate([0,1,2,3,4,5,6,7,8])"
   ]
  },
  {
   "cell_type": "code",
   "execution_count": 77,
   "metadata": {},
   "outputs": [
    {
     "name": "stdout",
     "output_type": "stream",
     "text": [
      "mean: [[3.6666666666666665, 5.0, 3.0], [3.3333333333333335, 4.0, 4.333333333333333], 3.888888888888889]\n",
      "variance: [[9.555555555555557, 0.6666666666666666, 8.666666666666666], [3.555555555555556, 10.666666666666666, 6.222222222222221], 6.987654320987654]\n",
      "standard deviation: [[3.091206165165235, 0.816496580927726, 2.943920288775949], [1.8856180831641267, 3.265986323710904, 2.494438257849294], 2.6434171674156266]\n",
      "max: [[8, 6, 7], [6, 8, 7], 8]\n",
      "min: [[1, 4, 0], [2, 0, 1], 0]\n",
      "sum: [[11, 15, 9], [10, 12, 13], 35]\n"
     ]
    }
   ],
   "source": [
    "calculate([2,6,2,8,4,0,1,5,7])"
   ]
  }
 ],
 "metadata": {
  "kernelspec": {
   "display_name": "Python 3",
   "language": "python",
   "name": "python3"
  },
  "language_info": {
   "codemirror_mode": {
    "name": "ipython",
    "version": 3
   },
   "file_extension": ".py",
   "mimetype": "text/x-python",
   "name": "python",
   "nbconvert_exporter": "python",
   "pygments_lexer": "ipython3",
   "version": "3.11.4"
  }
 },
 "nbformat": 4,
 "nbformat_minor": 2
}
